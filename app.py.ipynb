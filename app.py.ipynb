{
 "cells": [
  {
   "cell_type": "code",
   "execution_count": null,
   "id": "c3c64a24",
   "metadata": {},
   "outputs": [],
   "source": [
    "import copy\n",
    "from constants import TEAMS\n",
    "from constants import PLAYERS\n",
    "import random"
   ]
  },
  {
   "cell_type": "code",
   "execution_count": null,
   "id": "dd6eaf6d",
   "metadata": {},
   "outputs": [],
   "source": [
    "players_copy = copy.deepcopy(PLAYERS)\n",
    "teams_copy = copy.deepcopy(TEAMS)"
   ]
  },
  {
   "cell_type": "code",
   "execution_count": null,
   "id": "6401d3fd",
   "metadata": {},
   "outputs": [],
   "source": [
    "def clean_data(players):\n",
    "    for player in players_copy:\n",
    "        player['height'] = int(player['height'].replace(' inches', ''))\n",
    "        player['guardians'] = (', '.join(player['guardians'].split(' and ')))\n",
    "        \n",
    "        if player['experience'] == 'YES':\n",
    "            player['experience'] = True\n",
    "        else:\n",
    "            player['experience'] = False    "
   ]
  },
  {
   "cell_type": "code",
   "execution_count": null,
   "id": "2c730202",
   "metadata": {},
   "outputs": [],
   "source": [
    "def balance_teams(teams, players):\n",
    "    experienced = []\n",
    "    inexperienced = []\n",
    "    balanced_teams = {}\n",
    "    \n",
    "    for player in players_copy:\n",
    "            if player['experience'] == True:\n",
    "                experienced.append(player)\n",
    "            else:\n",
    "                inexperienced.append(player)\n",
    "    \n",
    "    for team in teams_copy:    \n",
    "        balanced_teams[team] = random.sample(experienced, int(len(players_copy)/6)) +\\\n",
    "            random.sample(inexperienced, int(len(players_copy)/6))\n",
    "        \n",
    "        for player in balanced_teams[team]:\n",
    "            \n",
    "            if player in experienced:\n",
    "                experienced.remove(player)\n",
    "            elif player in inexperienced:\n",
    "                inexperienced.remove(player)\n",
    "    \n",
    "    return balanced_teams"
   ]
  },
  {
   "cell_type": "code",
   "execution_count": null,
   "id": "d5628b02",
   "metadata": {},
   "outputs": [],
   "source": [
    "def display_stats(team):\n",
    "    num_players = len(team)\n",
    "    num_experienced = 0\n",
    "    num_inexperienced = 0\n",
    "    guardians_lst = []\n",
    "    players_lst = []\n",
    "    avg_height = 0    \n",
    "    \n",
    "    \n",
    "    for player in team:\n",
    "        players_lst.append(player['name'])\n",
    "        guardians_lst.append(player['guardians'])\n",
    "        avg_height  += player['height']\n",
    "        \n",
    "        if player['experience'] == True:\n",
    "            num_experienced += 1\n",
    "        else:\n",
    "            num_inexperienced += 1 \n",
    "            \n",
    "    avg_height = round(avg_height/num_players,2)        \n",
    "    \n",
    "    print(f'Total players: {num_players}')\n",
    "    print(f'Experienced players: {num_experienced}')\n",
    "    print(f'Ixperienced players: {num_inexperienced}')\n",
    "    print(f'Average height: {avg_height}\\n')\n",
    "    print('Players on team:\\n', ', '.join(players_lst))\n",
    "    print('\\nGuardians:\\n', ', '.join(guardians_lst))\n",
    "          "
   ]
  },
  {
   "cell_type": "code",
   "execution_count": null,
   "id": "538e4a91",
   "metadata": {},
   "outputs": [],
   "source": []
  },
  {
   "cell_type": "code",
   "execution_count": null,
   "id": "42c7d0cb",
   "metadata": {},
   "outputs": [],
   "source": [
    "def menu():\n",
    "    print('BASKETBALL TEAM STATS TOOL\\n')\n",
    "    print('-' *4, 'MENU', '-' *4,'\\n')\n",
    "    print('Here are your choices:\\n')\n",
    "    print(' 1) Display Team Stats\\n')\n",
    "    print(' 2) Quit\\n')\n",
    "    \n",
    "    choice = input('Enter an option: ')\n",
    "    while (choice != '1') & (choice != '2'):\n",
    "        print('Please enter either 1 or 2')\n",
    "        choice = input('Enter an option: ')\n",
    "   \n",
    "    if choice == '1':\n",
    "        choice_1 = input('\\nChoose a team:\\n1) Panthers\\n2) Bandits\\n3) Warriors\\n'\n",
    "                        )\n",
    "        while (choice_1 != '1') & (choice_1 != '2') & (choice_1 != '3'):\n",
    "            print('Please enter either 1, 2 or 3')\n",
    "            choice_1 = input('\\nChoose a team:\\n1) Panthers\\n2) Bandits\\n3) Warriors\\n')\n",
    "            \n",
    "        if choice_1 == '1':\n",
    "            print('\\nTeam: Panthers Stats\\n')\n",
    "            print('-'*20,'\\n')\n",
    "            display_stats(teams['Panthers'])\n",
    "        elif choice_1 == '2':\n",
    "            print('\\nTeam: Bandits Stats\\n')\n",
    "            print('-'*20,'\\n')\n",
    "            display_stats(teams['Bandits'])\n",
    "        elif choice_1 == '3': \n",
    "            print('\\nTeam: Warriors Stats\\n')\n",
    "            print('-'*20,'\\n')\n",
    "            display_stats(teams['Warriors'])\n",
    "            \n",
    "            \n",
    "    elif choice == '2':\n",
    "        print('Thank you for using the Basketball Stats Tool. Have a great day!')\n",
    "    "
   ]
  },
  {
   "cell_type": "code",
   "execution_count": null,
   "id": "a79682d1",
   "metadata": {},
   "outputs": [],
   "source": [
    "if __name__ == \"__main__\":\n",
    "    players = clean_data(players_copy)\n",
    "    teams = balance_teams(teams_copy, players)\n",
    "    menu()"
   ]
  },
  {
   "cell_type": "code",
   "execution_count": null,
   "id": "f50739dd",
   "metadata": {},
   "outputs": [],
   "source": []
  },
  {
   "cell_type": "code",
   "execution_count": null,
   "id": "0d5c2420",
   "metadata": {},
   "outputs": [],
   "source": []
  },
  {
   "cell_type": "code",
   "execution_count": null,
   "id": "eccc9b09",
   "metadata": {},
   "outputs": [],
   "source": []
  },
  {
   "cell_type": "code",
   "execution_count": null,
   "id": "13f5ba7a",
   "metadata": {},
   "outputs": [],
   "source": []
  },
  {
   "cell_type": "code",
   "execution_count": null,
   "id": "aebcb54f",
   "metadata": {},
   "outputs": [],
   "source": []
  },
  {
   "cell_type": "code",
   "execution_count": null,
   "id": "9c459df9",
   "metadata": {},
   "outputs": [],
   "source": []
  },
  {
   "cell_type": "code",
   "execution_count": null,
   "id": "5c438cf4",
   "metadata": {},
   "outputs": [],
   "source": []
  },
  {
   "cell_type": "code",
   "execution_count": null,
   "id": "ec8cd2c1",
   "metadata": {},
   "outputs": [],
   "source": []
  },
  {
   "cell_type": "code",
   "execution_count": null,
   "id": "d7e7232d",
   "metadata": {},
   "outputs": [],
   "source": []
  },
  {
   "cell_type": "code",
   "execution_count": null,
   "id": "fbb54423",
   "metadata": {},
   "outputs": [],
   "source": []
  },
  {
   "cell_type": "code",
   "execution_count": null,
   "id": "e8c46355",
   "metadata": {},
   "outputs": [],
   "source": []
  },
  {
   "cell_type": "code",
   "execution_count": null,
   "id": "6ea08b45",
   "metadata": {},
   "outputs": [],
   "source": []
  },
  {
   "cell_type": "code",
   "execution_count": null,
   "id": "966dfc4d",
   "metadata": {},
   "outputs": [],
   "source": []
  },
  {
   "cell_type": "code",
   "execution_count": null,
   "id": "f7ea92d8",
   "metadata": {},
   "outputs": [],
   "source": []
  },
  {
   "cell_type": "code",
   "execution_count": null,
   "id": "920b43c0",
   "metadata": {},
   "outputs": [],
   "source": []
  },
  {
   "cell_type": "code",
   "execution_count": null,
   "id": "22b732ac",
   "metadata": {},
   "outputs": [],
   "source": []
  },
  {
   "cell_type": "code",
   "execution_count": null,
   "id": "e22e1907",
   "metadata": {},
   "outputs": [],
   "source": []
  }
 ],
 "metadata": {
  "kernelspec": {
   "display_name": "Python 3 (ipykernel)",
   "language": "python",
   "name": "python3"
  },
  "language_info": {
   "codemirror_mode": {
    "name": "ipython",
    "version": 3
   },
   "file_extension": ".py",
   "mimetype": "text/x-python",
   "name": "python",
   "nbconvert_exporter": "python",
   "pygments_lexer": "ipython3",
   "version": "3.9.12"
  },
  "toc": {
   "base_numbering": 1,
   "nav_menu": {},
   "number_sections": true,
   "sideBar": true,
   "skip_h1_title": false,
   "title_cell": "Table of Contents",
   "title_sidebar": "Contents",
   "toc_cell": false,
   "toc_position": {},
   "toc_section_display": true,
   "toc_window_display": false
  }
 },
 "nbformat": 4,
 "nbformat_minor": 5
}
